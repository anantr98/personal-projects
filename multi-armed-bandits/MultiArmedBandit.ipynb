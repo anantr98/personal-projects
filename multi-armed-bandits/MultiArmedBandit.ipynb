{
 "cells": [
  {
   "cell_type": "markdown",
   "metadata": {},
   "source": [
    "# Multi-Armed Bandit Implementation"
   ]
  },
  {
   "cell_type": "code",
   "execution_count": 309,
   "metadata": {},
   "outputs": [],
   "source": [
    "\"\"\"\n",
    "Import two libraries meant for elementary multi-armed bandit development\n",
    "\"\"\"\n",
    "import numpy as np\n",
    "import random\n",
    "import matplotlib.pyplot as plt\n",
    "import operator"
   ]
  },
  {
   "cell_type": "code",
   "execution_count": 310,
   "metadata": {},
   "outputs": [],
   "source": [
    "\"\"\"\n",
    "Define the three distributions that our multi-armed bandit is going to choose from or exploit.\n",
    "\"\"\"\n",
    "dist_one = np.random.normal(10,5,300)\n",
    "dist_two = np.random.normal(8,4,300)\n",
    "dist_three = np.random.normal(5,2.5,300)"
   ]
  },
  {
   "cell_type": "code",
   "execution_count": 311,
   "metadata": {
    "scrolled": true
   },
   "outputs": [
    {
     "data": {
      "image/png": "[encoded data removed]",
      "text/plain": [
       "<Figure size 432x288 with 1 Axes>"
      ]
     },
     "metadata": {
      "needs_background": "light"
     },
     "output_type": "display_data"
    },
    {
     "data": {
      "image/png": "[encoded data removed]",
      "text/plain": [
       "<Figure size 432x288 with 1 Axes>"
      ]
     },
     "metadata": {
      "needs_background": "light"
     },
     "output_type": "display_data"
    },
    {
     "data": {
      "image/png": "[encoded data removed]",
      "text/plain": [
       "<Figure size 432x288 with 1 Axes>"
      ]
     },
     "metadata": {
      "needs_background": "light"
     },
     "output_type": "display_data"
    }
   ],
   "source": [
    "\"\"\"\n",
    "Plot the three distributions to assess the spread.\n",
    "\"\"\"\n",
    "plt.hist(dist_one)\n",
    "plt.show()\n",
    "plt.hist(dist_two)\n",
    "plt.show()\n",
    "plt.hist(dist_three)\n",
    "plt.show()"
   ]
  },
  {
   "cell_type": "code",
   "execution_count": 312,
   "metadata": {},
   "outputs": [
    {
     "data": {
      "text/plain": [
       "16.297337122642947"
      ]
     },
     "execution_count": 312,
     "metadata": {},
     "output_type": "execute_result"
    }
   ],
   "source": [
    "\"\"\"\n",
    "For the first 3 visits, explore all three and see which one gave \n",
    "the highest and save that as the default when we want to exploit.\n",
    "\"\"\"\n",
    "dist_one_pick = np.random.normal(10,5) # more spread out distribution\n",
    "dist_two_pick = np.random.normal(8,4) # more spread out distribution\n",
    "dist_three_pick = np.random.normal(5,2.5)\n",
    "\n",
    "exploit = np.max([dist_one_pick, dist_two_pick, dist_three_pick])\n",
    "exploit"
   ]
  },
  {
   "cell_type": "code",
   "execution_count": 313,
   "metadata": {},
   "outputs": [],
   "source": [
    "\"\"\"\n",
    "Create method for the explore-only algorithm.\n",
    "\"\"\"\n",
    "def explore_method():\n",
    "    sum = 0\n",
    "    cumul_explore = []\n",
    "    for i in range(0,300,3):\n",
    "        sum += dist_one[i]\n",
    "        cumul_explore.append(sum)\n",
    "        sum += dist_two[i]\n",
    "        cumul_explore.append(sum)\n",
    "        sum += dist_three[i]\n",
    "        cumul_explore.append(sum)\n",
    "    print(\"The explore-only algorithm's happiness score is: \" + str(sum))\n",
    "    return sum, cumul_explore"
   ]
  },
  {
   "cell_type": "code",
   "execution_count": 314,
   "metadata": {},
   "outputs": [],
   "source": [
    "\"\"\"\n",
    "Create method for the exploit-only algorithm\n",
    "\"\"\"\n",
    "def exploit_method():\n",
    "    cumul_exploit = []\n",
    "    for i in range(0,300):\n",
    "        cumul_exploit.append(exploit*i)\n",
    "    print(\"The exploit-only happiness score is: \" + str(exploit*300))\n",
    "    return exploit*300, cumul_exploit"
   ]
  },
  {
   "cell_type": "code",
   "execution_count": 315,
   "metadata": {},
   "outputs": [],
   "source": [
    "\"\"\"\n",
    "Create method for the harmonic method that incorporates the explore-only and the exploit-only algorithms. \n",
    "\"\"\"\n",
    "def harmonic_method():\n",
    "    happiness = 0\n",
    "    cumul_greedy = []\n",
    "    for i in range(0,300):\n",
    "        chance_of_exploit = random.randint(1,100) # Random number generator to determine likelihood of exploit \n",
    "        rand_dist_pick = random.randint(1,3)\n",
    "        if chance_of_exploit > 10: # There is a 90% chance we will exploit our current knowledge  \n",
    "            happiness += exploit\n",
    "        else:\n",
    "            if rand_dist_pick == 1:\n",
    "                happiness += dist_one[i]\n",
    "            elif rand_dist_pick == 2:\n",
    "                happiness += dist_two[i]\n",
    "            elif rand_dist_pick == 3:\n",
    "                happiness += dist_three[i]\n",
    "        cumul_greedy.append(happiness)\n",
    "    print(\"The greedy multi-armed bandit algorithm happiness score is: \" + str(happiness))\n",
    "    return happiness, cumul_greedy"
   ]
  },
  {
   "cell_type": "code",
   "execution_count": 316,
   "metadata": {},
   "outputs": [],
   "source": [
    "\"\"\"\n",
    "Create method that strengthens the harmonic method by using a learning mechanism.\n",
    "\"\"\"\n",
    "def harmonic_learning_method():\n",
    "    happiness = 0\n",
    "    cumul_greedy_learn = []\n",
    "    map = {1:0,2:0,3:0}\n",
    "    for i in range(0,300):\n",
    "        ######### LEARNING MECHANISM ##############\n",
    "        list_ = [dist_one[i],dist_two[i],dist_three[i]]\n",
    "        max_index = list_.index(np.max(list_))\n",
    "        max_index += 1\n",
    "        map[max_index]+=1\n",
    "        ######### LEARNING MECHANISM ###############\n",
    "        chance_of_exploit = random.randint(1,100) # Random number generator to determine likelihood of exploit \n",
    "        if chance_of_exploit > 10: # There is a 90% chance we will exploit our current knowledge  \n",
    "            happiness += exploit\n",
    "        else:\n",
    "            rand_dist_pick = max(map.items(), key=operator.itemgetter(1))[0]\n",
    "            if rand_dist_pick == 1:\n",
    "                happiness += dist_one[i]\n",
    "            elif rand_dist_pick == 2:\n",
    "                happiness += dist_two[i]\n",
    "            elif rand_dist_pick == 3:\n",
    "                happiness += dist_three[i]\n",
    "        cumul_greedy_learn.append(happiness)\n",
    "    print(\"The greedy multi-armed bandit algorithm with learning mechanism happiness score is: \" + str(happiness))\n",
    "    return happiness, cumul_greedy_learn"
   ]
  },
  {
   "cell_type": "code",
   "execution_count": 317,
   "metadata": {},
   "outputs": [
    {
     "name": "stdout",
     "output_type": "stream",
     "text": [
      "The explore-only algorithm's happiness score is: 2261.948757577612\n",
      "The exploit-only happiness score is: 4889.201136792884\n",
      "The greedy multi-armed bandit algorithm happiness score is: 4619.41601302566\n",
      "The greedy multi-armed bandit algorithm with learning mechanism happiness score is: 4652.93822032755\n"
     ]
    },
    {
     "data": {
      "image/png": "[encoded data removed]",
      "text/plain": [
       "<Figure size 432x288 with 1 Axes>"
      ]
     },
     "metadata": {
      "needs_background": "light"
     },
     "output_type": "display_data"
    }
   ],
   "source": [
    "explore_sum, explore_array = explore_method()\n",
    "exploit_sum, exploit_array = exploit_method()\n",
    "harmonic_sum, harmonic_array = harmonic_method()\n",
    "learning_sum,learning_array = harmonic_learning_method()\n",
    "plt.plot(range(0,300),explore_array,label='explore method')\n",
    "plt.plot(range(0,300),exploit_array,label='exploit method')\n",
    "plt.plot(range(0,300),harmonic_array,label='harmonic method')\n",
    "plt.plot(range(0,300),learning_array,label='harmonic learning method')\n",
    "plt.legend()\n",
    "plt.title('Explore method vs. Exploit method vs. Harmonic method')\n",
    "plt.show()"
   ]
  },
  {
   "cell_type": "code",
   "execution_count": 318,
   "metadata": {},
   "outputs": [
    {
     "data": {
      "text/plain": [
       "\"\\nChange dist_one, dist_two, and dist_three because we don't necessarily know the values on that particular day.\\n\\nWe will have to \\n\""
      ]
     },
     "execution_count": 318,
     "metadata": {},
     "output_type": "execute_result"
    }
   ],
   "source": [
    "\"\"\"\n",
    "Change dist_one, dist_two, and dist_three because we don't necessarily know the values on that particular day.\n",
    "\n",
    "We will have to \n",
    "\"\"\"\n"
   ]
  },
  {
   "cell_type": "code",
   "execution_count": null,
   "metadata": {},
   "outputs": [],
   "source": []
  }
 ],
 "metadata": {
  "kernelspec": {
   "display_name": "Python 3",
   "language": "python",
   "name": "python3"
  },
  "language_info": {
   "codemirror_mode": {
    "name": "ipython",
    "version": 3
   },
   "file_extension": ".py",
   "mimetype": "text/x-python",
   "name": "python",
   "nbconvert_exporter": "python",
   "pygments_lexer": "ipython3",
   "version": "3.8.2"
  }
 },
 "nbformat": 4,
 "nbformat_minor": 4
}
